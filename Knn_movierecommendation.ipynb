{
  "nbformat": 4,
  "nbformat_minor": 0,
  "metadata": {
    "colab": {
      "provenance": []
    },
    "kernelspec": {
      "name": "python3",
      "display_name": "Python 3"
    },
    "language_info": {
      "name": "python"
    }
  },
  "cells": [
    {
      "cell_type": "code",
      "execution_count": null,
      "metadata": {
        "colab": {
          "base_uri": "https://localhost:8080/"
        },
        "id": "3Qz0XJVdI3ai",
        "outputId": "2c6e3828-6357-419b-8d8f-28bcc1665094"
      },
      "outputs": [
        {
          "output_type": "stream",
          "name": "stdout",
          "text": [
            "Downloading from https://www.kaggle.com/api/v1/datasets/download/milanvaddoriya/imdb-movie-rating?dataset_version_number=1...\n"
          ]
        },
        {
          "output_type": "stream",
          "name": "stderr",
          "text": [
            "100%|██████████| 24.0k/24.0k [00:00<00:00, 25.9MB/s]"
          ]
        },
        {
          "output_type": "stream",
          "name": "stdout",
          "text": [
            "Extracting files...\n",
            "Path to dataset files: /root/.cache/kagglehub/datasets/milanvaddoriya/imdb-movie-rating/versions/1\n"
          ]
        },
        {
          "output_type": "stream",
          "name": "stderr",
          "text": [
            "\n"
          ]
        }
      ],
      "source": [
        "import kagglehub\n",
        "\n",
        "# Download latest version\n",
        "path = kagglehub.dataset_download(\"milanvaddoriya/imdb-movie-rating\")\n",
        "\n",
        "print(\"Path to dataset files:\", path)"
      ]
    },
    {
      "cell_type": "code",
      "source": [
        "import os\n",
        "import pandas as pd\n",
        "\n",
        "# List all files in the downloaded directory to find the correct file path\n",
        "dataset_dir = path  # Ensure this is the path to the downloaded directory\n",
        "print(\"Contents of the dataset directory:\", os.listdir(dataset_dir))\n",
        "\n",
        "# Assuming you identify the correct file from the list (e.g., \"imdb-movie-ratings.csv\")\n",
        "file_path = os.path.join(dataset_dir, \"imdb-movie-ratings.csv\")\n"
      ],
      "metadata": {
        "colab": {
          "base_uri": "https://localhost:8080/"
        },
        "id": "T9J2PMbVJLEY",
        "outputId": "41382ae2-d3ab-4619-fe22-8a40dbf585f9"
      },
      "execution_count": null,
      "outputs": [
        {
          "output_type": "stream",
          "name": "stdout",
          "text": [
            "Contents of the dataset directory: ['imdb.csv']\n"
          ]
        }
      ]
    },
    {
      "cell_type": "code",
      "source": [
        "import os\n",
        "\n",
        "# List all files in the dataset directory\n",
        "dataset_dir = '/root/.cache/kagglehub/datasets/milanvaddoriya/imdb-movie-rating/versions/1'\n",
        "print(\"Files in the dataset directory:\", os.listdir(dataset_dir))\n"
      ],
      "metadata": {
        "colab": {
          "base_uri": "https://localhost:8080/"
        },
        "id": "1hW6_cmSJ1FN",
        "outputId": "2256bbe7-09ae-4f21-a140-dc158cca4911"
      },
      "execution_count": null,
      "outputs": [
        {
          "output_type": "stream",
          "name": "stdout",
          "text": [
            "Files in the dataset directory: ['imdb.csv']\n"
          ]
        }
      ]
    },
    {
      "cell_type": "code",
      "source": [
        "import pandas as pd\n",
        "\n",
        "# Replace \"your_actual_file.csv\" with the actual file name found from the directory listing\n",
        "file_path = os.path.join(dataset_dir, \"imdb.csv\")\n",
        "\n",
        "# Load the CSV file into a DataFrame\n",
        "data = pd.read_csv(file_path)\n",
        "\n",
        "# Display the first few rows to confirm the dataset loaded correctly\n",
        "print(data.head())\n"
      ],
      "metadata": {
        "colab": {
          "base_uri": "https://localhost:8080/"
        },
        "id": "ezW9Tg6VKDr3",
        "outputId": "60658254-e0cb-4256-e891-3bbcf925d8b2"
      },
      "execution_count": null,
      "outputs": [
        {
          "output_type": "stream",
          "name": "stdout",
          "text": [
            "  Rank                                     Movie_name  Year Certificate  \\\n",
            "0    1                       The Shawshank Redemption  1994           R   \n",
            "1    2                                  The Godfather  1972           R   \n",
            "2    3                                The Dark Knight  2008       PG-13   \n",
            "3    4  The Lord of the Rings: The Return of the King  2003       PG-13   \n",
            "4    5                               Schindler's List  1993           R   \n",
            "\n",
            "   Runtime_in_min                      Genre  Metascore Gross_in_$_M  \\\n",
            "0             142                      Drama       81.0        28.34   \n",
            "1             175               Crime, Drama      100.0       134.97   \n",
            "2             152       Action, Crime, Drama       84.0       534.86   \n",
            "3             201   Action, Adventure, Drama       94.0       377.85   \n",
            "4             195  Biography, Drama, History       94.0        96.90   \n",
            "\n",
            "   Rating_from_10  \n",
            "0             9.3  \n",
            "1             9.2  \n",
            "2             9.0  \n",
            "3             9.0  \n",
            "4             9.0  \n"
          ]
        }
      ]
    },
    {
      "cell_type": "code",
      "source": [
        "import pandas as pd\n",
        "from sklearn.neighbors import NearestNeighbors\n",
        "from sklearn.preprocessing import StandardScaler, OneHotEncoder\n",
        "from sklearn.compose import ColumnTransformer\n",
        "from sklearn.pipeline import Pipeline\n",
        "from sklearn.model_selection import GridSearchCV\n",
        "import numpy as np\n",
        "from sklearn.impute import SimpleImputer"
      ],
      "metadata": {
        "id": "TzUVnWyiLHGj"
      },
      "execution_count": null,
      "outputs": []
    },
    {
      "cell_type": "code",
      "source": [
        "features = data[['Runtime_in_min', 'Genre', 'Metascore', 'Gross_in_$_M', 'Rating_from_10']]\n",
        "data['Gross_in_$_M'] = pd.to_numeric(data['Gross_in_$_M'], errors='coerce')  # Convert to numeric\n",
        "\n",
        "# Preprocessing pipeline with an Imputer for NaNs\n",
        "preprocessor = ColumnTransformer(\n",
        "    transformers=[\n",
        "        ('num', Pipeline(steps=[\n",
        "            ('imputer', SimpleImputer(strategy='mean')),  # Impute missing values\n",
        "            ('scaler', StandardScaler())\n",
        "        ]), ['Runtime_in_min', 'Metascore', 'Gross_in_$_M', 'Rating_from_10']),\n",
        "        ('cat', OneHotEncoder(handle_unknown='ignore'), ['Genre'])\n",
        "    ]\n",
        ")\n",
        "\n",
        "X = preprocessor.fit_transform(features)\n",
        "\n",
        "# Range of k values to test\n",
        "k_values = np.arange(5, 21, 2)\n",
        "distances_mean = []\n",
        "\n",
        "# Iterate through each k and calculate the average distance (proxy for recommendation quality)\n",
        "for k in k_values:\n",
        "    knn = NearestNeighbors(n_neighbors=k, metric='cosine', algorithm='brute')\n",
        "    knn.fit(X)\n",
        "    distances, _ = knn.kneighbors(X)\n",
        "    avg_distance = distances[:, 1:].mean()  # Exclude the 0-distance to the item itself\n",
        "    distances_mean.append(avg_distance)\n",
        "\n",
        "# Select the k with the smallest mean distance\n",
        "optimal_k = k_values[np.argmin(distances_mean)]\n",
        "print(f\"Optimal k based on average distance: {optimal_k}\")\n",
        "\n",
        "# Train the KNN model with optimal k\n",
        "knn = NearestNeighbors(n_neighbors=optimal_k, metric='cosine', algorithm='brute')\n",
        "knn.fit(X)\n",
        "\n",
        "# Function to recommend movies\n",
        "def recommend_movies(movie_title, data, model, preprocessor, num_recommendations=5):\n",
        "    # Find the index of the selected movie\n",
        "    movie_idx = data[data['Movie_name'] == movie_title].index[0]\n",
        "\n",
        "    # Get the feature vector for the movie\n",
        "    movie_features = preprocessor.transform(features.iloc[[movie_idx]])\n",
        "\n",
        "    # Find nearest neighbors\n",
        "    distances, indices = model.kneighbors(movie_features, n_neighbors=num_recommendations + 1)\n",
        "\n",
        "    # Retrieve movie names for recommendations\n",
        "    recommended_movies = data.iloc[indices[0][1:]]['Movie_name']\n",
        "    return recommended_movies\n",
        "\n",
        "# Example usage\n",
        "movie_to_search = \"The Godfather\"\n",
        "recommendations = recommend_movies(movie_to_search, data, knn, preprocessor)\n",
        "print(f\"Recommendations for {movie_to_search}:\")\n",
        "print(recommendations)"
      ],
      "metadata": {
        "colab": {
          "base_uri": "https://localhost:8080/"
        },
        "id": "0v53hs0aOr9K",
        "outputId": "1006659f-40a3-489f-8a28-daf7b422f847"
      },
      "execution_count": null,
      "outputs": [
        {
          "output_type": "stream",
          "name": "stdout",
          "text": [
            "Optimal k based on average distance: 5\n",
            "Recommendations for The Godfather:\n",
            "8                       Pulp Fiction\n",
            "5              The Godfather Part II\n",
            "4                   Schindler's List\n",
            "19                        Goodfellas\n",
            "16    The Good, the Bad and the Ugly\n",
            "Name: Movie_name, dtype: object\n"
          ]
        }
      ]
    }
  ]
}